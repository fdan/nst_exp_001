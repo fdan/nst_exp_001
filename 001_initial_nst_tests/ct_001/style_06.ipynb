{
 "cells": [
  {
   "cell_type": "code",
   "execution_count": null,
   "metadata": {},
   "outputs": [],
   "source": [
    "from matplotlib import pyplot as plt\n",
    "from PIL import Image\n",
    "\n",
    "plt.figure(figsize=(20,20))\n",
    "plt.imshow(Image.open('../images/experiments/ct_001.png'))\n",
    "plt.show()\n",
    "\n",
    "plt.figure(figsize=(20,20))\n",
    "plt.imshow(Image.open('../images/experiments/style_06.jpg'))\n",
    "plt.show()"
   ]
  },
  {
   "cell_type": "code",
   "execution_count": null,
   "metadata": {},
   "outputs": [],
   "source": [
    "from matplotlib import pyplot as plt\n",
    "from PIL import Image\n",
    "\n",
    "import utils\n",
    "\n",
    "for i in range(1, 21):\n",
    "    utils.show_pairs('../images/experiments/output/ct_001/style_06/%03d' % i)\n",
    "    "
   ]
  },
  {
   "cell_type": "code",
   "execution_count": null,
   "metadata": {},
   "outputs": [],
   "source": []
  }
 ],
 "metadata": {
  "kernelspec": {
   "display_name": "Python 2",
   "language": "python",
   "name": "python2"
  },
  "language_info": {
   "codemirror_mode": {
    "name": "ipython",
    "version": 2
   },
   "file_extension": ".py",
   "mimetype": "text/x-python",
   "name": "python",
   "nbconvert_exporter": "python",
   "pygments_lexer": "ipython2",
   "version": "2.7.16"
  }
 },
 "nbformat": 4,
 "nbformat_minor": 2
}
