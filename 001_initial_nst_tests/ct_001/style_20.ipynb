{
 "cells": [
  {
   "cell_type": "code",
   "execution_count": null,
   "metadata": {},
   "outputs": [],
   "source": [
    "from matplotlib import pyplot as plt\n",
    "from PIL import Image\n",
    "\n",
    "plt.figure(figsize=(20,20))\n",
    "plt.imshow(Image.open('images/experiments/ct_001.png'))\n",
    "plt.show()\n",
    "\n",
    "plt.figure(figsize=(20,20))\n",
    "plt.imshow(Image.open('images/experiments/style_20.jpg'))\n",
    "plt.show()"
   ]
  },
  {
   "cell_type": "code",
   "execution_count": null,
   "metadata": {},
   "outputs": [],
   "source": [
    "from matplotlib import pyplot as plt\n",
    "from PIL import Image\n",
    "\n",
    "\n",
    "def show_pairs(source_dir):\n",
    "    div = 20\n",
    "    fig = plt.figure(figsize=(60, 60))\n",
    "    r_im = Image.open('%s/render.png' % source_dir)\n",
    "    x, y = r_im.size\n",
    "    size = max(256, x, y)\n",
    "    new_im = Image.new('RGBA', (x+y+div, y), (255,255,255,255))\n",
    "    new_im.paste(r_im)\n",
    "    s_im = Image.open('%s/style.png' % source_dir)\n",
    "    s_im = s_im.resize((y, y))\n",
    "    new_im.paste(s_im, (x+div, 0))\n",
    "    render = fig.add_subplot(1, 2, 1)\n",
    "    render.imshow(new_im)\n",
    "    render.set_axis_off()\n",
    "    plt.show()\n",
    "    \n",
    "for i in range(1, 21):\n",
    "    show_pairs('images/experiments/output/ct_001/style_20/%03d' % i)"
   ]
  },
  {
   "cell_type": "code",
   "execution_count": null,
   "metadata": {},
   "outputs": [],
   "source": []
  }
 ],
 "metadata": {
  "kernelspec": {
   "display_name": "Python 2",
   "language": "python",
   "name": "python2"
  },
  "language_info": {
   "codemirror_mode": {
    "name": "ipython",
    "version": 2
   },
   "file_extension": ".py",
   "mimetype": "text/x-python",
   "name": "python",
   "nbconvert_exporter": "python",
   "pygments_lexer": "ipython2",
   "version": "2.7.16"
  }
 },
 "nbformat": 4,
 "nbformat_minor": 2
}
